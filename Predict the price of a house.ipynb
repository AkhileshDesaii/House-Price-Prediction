{
 "cells": [
  {
   "cell_type": "code",
   "execution_count": 1,
   "id": "243b443e",
   "metadata": {},
   "outputs": [],
   "source": [
    "#importing libraries\n",
    "import pandas as pd\n",
    "import numpy as np\n",
    "import matplotlib.pyplot as plt\n",
    "import seaborn as sns"
   ]
  },
  {
   "cell_type": "code",
   "execution_count": 2,
   "id": "9bf76f01",
   "metadata": {},
   "outputs": [],
   "source": [
    "#loading data\n",
    "df = pd.read_excel(r\"C:/Users/user/Dropbox/PC/Desktop/Machine Learning/Shack Labs/Part 1/DS - Assignment Part 1 data set.xlsx\")"
   ]
  },
  {
   "cell_type": "code",
   "execution_count": 3,
   "id": "ea7e7341",
   "metadata": {},
   "outputs": [
    {
     "data": {
      "text/html": [
       "<div>\n",
       "<style scoped>\n",
       "    .dataframe tbody tr th:only-of-type {\n",
       "        vertical-align: middle;\n",
       "    }\n",
       "\n",
       "    .dataframe tbody tr th {\n",
       "        vertical-align: top;\n",
       "    }\n",
       "\n",
       "    .dataframe thead th {\n",
       "        text-align: right;\n",
       "    }\n",
       "</style>\n",
       "<table border=\"1\" class=\"dataframe\">\n",
       "  <thead>\n",
       "    <tr style=\"text-align: right;\">\n",
       "      <th></th>\n",
       "      <th>Transaction date</th>\n",
       "      <th>House Age</th>\n",
       "      <th>Distance from nearest Metro station (km)</th>\n",
       "      <th>Number of convenience stores</th>\n",
       "      <th>latitude</th>\n",
       "      <th>longitude</th>\n",
       "      <th>Number of bedrooms</th>\n",
       "      <th>House size (sqft)</th>\n",
       "      <th>House price of unit area</th>\n",
       "    </tr>\n",
       "  </thead>\n",
       "  <tbody>\n",
       "    <tr>\n",
       "      <th>0</th>\n",
       "      <td>2012.916667</td>\n",
       "      <td>32.0</td>\n",
       "      <td>84.87882</td>\n",
       "      <td>10</td>\n",
       "      <td>24.98298</td>\n",
       "      <td>121.54024</td>\n",
       "      <td>1</td>\n",
       "      <td>575</td>\n",
       "      <td>37.9</td>\n",
       "    </tr>\n",
       "    <tr>\n",
       "      <th>1</th>\n",
       "      <td>2012.916667</td>\n",
       "      <td>19.5</td>\n",
       "      <td>306.59470</td>\n",
       "      <td>9</td>\n",
       "      <td>24.98034</td>\n",
       "      <td>121.53951</td>\n",
       "      <td>2</td>\n",
       "      <td>1240</td>\n",
       "      <td>42.2</td>\n",
       "    </tr>\n",
       "    <tr>\n",
       "      <th>2</th>\n",
       "      <td>2013.583333</td>\n",
       "      <td>13.3</td>\n",
       "      <td>561.98450</td>\n",
       "      <td>5</td>\n",
       "      <td>24.98746</td>\n",
       "      <td>121.54391</td>\n",
       "      <td>3</td>\n",
       "      <td>1060</td>\n",
       "      <td>47.3</td>\n",
       "    </tr>\n",
       "    <tr>\n",
       "      <th>3</th>\n",
       "      <td>2013.500000</td>\n",
       "      <td>13.3</td>\n",
       "      <td>561.98450</td>\n",
       "      <td>5</td>\n",
       "      <td>24.98746</td>\n",
       "      <td>121.54391</td>\n",
       "      <td>2</td>\n",
       "      <td>875</td>\n",
       "      <td>54.8</td>\n",
       "    </tr>\n",
       "    <tr>\n",
       "      <th>4</th>\n",
       "      <td>2012.833333</td>\n",
       "      <td>5.0</td>\n",
       "      <td>390.56840</td>\n",
       "      <td>5</td>\n",
       "      <td>24.97937</td>\n",
       "      <td>121.54245</td>\n",
       "      <td>1</td>\n",
       "      <td>491</td>\n",
       "      <td>43.1</td>\n",
       "    </tr>\n",
       "  </tbody>\n",
       "</table>\n",
       "</div>"
      ],
      "text/plain": [
       "   Transaction date  House Age  Distance from nearest Metro station (km)  \\\n",
       "0       2012.916667       32.0                                  84.87882   \n",
       "1       2012.916667       19.5                                 306.59470   \n",
       "2       2013.583333       13.3                                 561.98450   \n",
       "3       2013.500000       13.3                                 561.98450   \n",
       "4       2012.833333        5.0                                 390.56840   \n",
       "\n",
       "   Number of convenience stores  latitude  longitude  Number of bedrooms  \\\n",
       "0                            10  24.98298  121.54024                   1   \n",
       "1                             9  24.98034  121.53951                   2   \n",
       "2                             5  24.98746  121.54391                   3   \n",
       "3                             5  24.98746  121.54391                   2   \n",
       "4                             5  24.97937  121.54245                   1   \n",
       "\n",
       "   House size (sqft)  House price of unit area  \n",
       "0                575                      37.9  \n",
       "1               1240                      42.2  \n",
       "2               1060                      47.3  \n",
       "3                875                      54.8  \n",
       "4                491                      43.1  "
      ]
     },
     "execution_count": 3,
     "metadata": {},
     "output_type": "execute_result"
    }
   ],
   "source": [
    "df.head()"
   ]
  },
  {
   "cell_type": "code",
   "execution_count": 4,
   "id": "9d6f8ae8",
   "metadata": {},
   "outputs": [
    {
     "data": {
      "text/plain": [
       "(414, 9)"
      ]
     },
     "execution_count": 4,
     "metadata": {},
     "output_type": "execute_result"
    }
   ],
   "source": [
    "df.shape"
   ]
  },
  {
   "cell_type": "code",
   "execution_count": 5,
   "id": "1c6c3cb0",
   "metadata": {},
   "outputs": [
    {
     "name": "stdout",
     "output_type": "stream",
     "text": [
      "<class 'pandas.core.frame.DataFrame'>\n",
      "RangeIndex: 414 entries, 0 to 413\n",
      "Data columns (total 9 columns):\n",
      " #   Column                                    Non-Null Count  Dtype  \n",
      "---  ------                                    --------------  -----  \n",
      " 0   Transaction date                          414 non-null    float64\n",
      " 1   House Age                                 414 non-null    float64\n",
      " 2   Distance from nearest Metro station (km)  414 non-null    float64\n",
      " 3   Number of convenience stores              414 non-null    int64  \n",
      " 4   latitude                                  414 non-null    float64\n",
      " 5   longitude                                 414 non-null    float64\n",
      " 6   Number of bedrooms                        414 non-null    int64  \n",
      " 7   House size (sqft)                         414 non-null    int64  \n",
      " 8   House price of unit area                  414 non-null    float64\n",
      "dtypes: float64(6), int64(3)\n",
      "memory usage: 29.2 KB\n"
     ]
    }
   ],
   "source": [
    "#checking for null values\n",
    "df.info()"
   ]
  },
  {
   "cell_type": "code",
   "execution_count": 6,
   "id": "9bfcc770",
   "metadata": {},
   "outputs": [
    {
     "data": {
      "text/html": [
       "<div>\n",
       "<style scoped>\n",
       "    .dataframe tbody tr th:only-of-type {\n",
       "        vertical-align: middle;\n",
       "    }\n",
       "\n",
       "    .dataframe tbody tr th {\n",
       "        vertical-align: top;\n",
       "    }\n",
       "\n",
       "    .dataframe thead th {\n",
       "        text-align: right;\n",
       "    }\n",
       "</style>\n",
       "<table border=\"1\" class=\"dataframe\">\n",
       "  <thead>\n",
       "    <tr style=\"text-align: right;\">\n",
       "      <th></th>\n",
       "      <th>Transaction date</th>\n",
       "      <th>House Age</th>\n",
       "      <th>Distance from nearest Metro station (km)</th>\n",
       "      <th>Number of convenience stores</th>\n",
       "      <th>latitude</th>\n",
       "      <th>longitude</th>\n",
       "      <th>Number of bedrooms</th>\n",
       "      <th>House size (sqft)</th>\n",
       "      <th>House price of unit area</th>\n",
       "    </tr>\n",
       "  </thead>\n",
       "  <tbody>\n",
       "    <tr>\n",
       "      <th>count</th>\n",
       "      <td>414.000000</td>\n",
       "      <td>414.000000</td>\n",
       "      <td>414.000000</td>\n",
       "      <td>414.000000</td>\n",
       "      <td>414.000000</td>\n",
       "      <td>414.000000</td>\n",
       "      <td>414.000000</td>\n",
       "      <td>414.000000</td>\n",
       "      <td>414.000000</td>\n",
       "    </tr>\n",
       "    <tr>\n",
       "      <th>mean</th>\n",
       "      <td>2013.148953</td>\n",
       "      <td>17.712560</td>\n",
       "      <td>1083.885689</td>\n",
       "      <td>4.094203</td>\n",
       "      <td>24.969030</td>\n",
       "      <td>121.533361</td>\n",
       "      <td>1.987923</td>\n",
       "      <td>931.475845</td>\n",
       "      <td>37.980193</td>\n",
       "    </tr>\n",
       "    <tr>\n",
       "      <th>std</th>\n",
       "      <td>0.281995</td>\n",
       "      <td>11.392485</td>\n",
       "      <td>1262.109595</td>\n",
       "      <td>2.945562</td>\n",
       "      <td>0.012410</td>\n",
       "      <td>0.015347</td>\n",
       "      <td>0.818875</td>\n",
       "      <td>348.910269</td>\n",
       "      <td>13.606488</td>\n",
       "    </tr>\n",
       "    <tr>\n",
       "      <th>min</th>\n",
       "      <td>2012.666667</td>\n",
       "      <td>0.000000</td>\n",
       "      <td>23.382840</td>\n",
       "      <td>0.000000</td>\n",
       "      <td>24.932070</td>\n",
       "      <td>121.473530</td>\n",
       "      <td>1.000000</td>\n",
       "      <td>402.000000</td>\n",
       "      <td>7.600000</td>\n",
       "    </tr>\n",
       "    <tr>\n",
       "      <th>25%</th>\n",
       "      <td>2012.916667</td>\n",
       "      <td>9.025000</td>\n",
       "      <td>289.324800</td>\n",
       "      <td>1.000000</td>\n",
       "      <td>24.963000</td>\n",
       "      <td>121.528085</td>\n",
       "      <td>1.000000</td>\n",
       "      <td>548.000000</td>\n",
       "      <td>27.700000</td>\n",
       "    </tr>\n",
       "    <tr>\n",
       "      <th>50%</th>\n",
       "      <td>2013.166667</td>\n",
       "      <td>16.100000</td>\n",
       "      <td>492.231300</td>\n",
       "      <td>4.000000</td>\n",
       "      <td>24.971100</td>\n",
       "      <td>121.538630</td>\n",
       "      <td>2.000000</td>\n",
       "      <td>975.000000</td>\n",
       "      <td>38.450000</td>\n",
       "    </tr>\n",
       "    <tr>\n",
       "      <th>75%</th>\n",
       "      <td>2013.416667</td>\n",
       "      <td>28.150000</td>\n",
       "      <td>1454.279000</td>\n",
       "      <td>6.000000</td>\n",
       "      <td>24.977455</td>\n",
       "      <td>121.543305</td>\n",
       "      <td>3.000000</td>\n",
       "      <td>1234.750000</td>\n",
       "      <td>46.600000</td>\n",
       "    </tr>\n",
       "    <tr>\n",
       "      <th>max</th>\n",
       "      <td>2013.583333</td>\n",
       "      <td>43.800000</td>\n",
       "      <td>6488.021000</td>\n",
       "      <td>10.000000</td>\n",
       "      <td>25.014590</td>\n",
       "      <td>121.566270</td>\n",
       "      <td>3.000000</td>\n",
       "      <td>1500.000000</td>\n",
       "      <td>117.500000</td>\n",
       "    </tr>\n",
       "  </tbody>\n",
       "</table>\n",
       "</div>"
      ],
      "text/plain": [
       "       Transaction date   House Age  Distance from nearest Metro station (km)  \\\n",
       "count        414.000000  414.000000                                414.000000   \n",
       "mean        2013.148953   17.712560                               1083.885689   \n",
       "std            0.281995   11.392485                               1262.109595   \n",
       "min         2012.666667    0.000000                                 23.382840   \n",
       "25%         2012.916667    9.025000                                289.324800   \n",
       "50%         2013.166667   16.100000                                492.231300   \n",
       "75%         2013.416667   28.150000                               1454.279000   \n",
       "max         2013.583333   43.800000                               6488.021000   \n",
       "\n",
       "       Number of convenience stores    latitude   longitude  \\\n",
       "count                    414.000000  414.000000  414.000000   \n",
       "mean                       4.094203   24.969030  121.533361   \n",
       "std                        2.945562    0.012410    0.015347   \n",
       "min                        0.000000   24.932070  121.473530   \n",
       "25%                        1.000000   24.963000  121.528085   \n",
       "50%                        4.000000   24.971100  121.538630   \n",
       "75%                        6.000000   24.977455  121.543305   \n",
       "max                       10.000000   25.014590  121.566270   \n",
       "\n",
       "       Number of bedrooms  House size (sqft)  House price of unit area  \n",
       "count          414.000000         414.000000                414.000000  \n",
       "mean             1.987923         931.475845                 37.980193  \n",
       "std              0.818875         348.910269                 13.606488  \n",
       "min              1.000000         402.000000                  7.600000  \n",
       "25%              1.000000         548.000000                 27.700000  \n",
       "50%              2.000000         975.000000                 38.450000  \n",
       "75%              3.000000        1234.750000                 46.600000  \n",
       "max              3.000000        1500.000000                117.500000  "
      ]
     },
     "execution_count": 6,
     "metadata": {},
     "output_type": "execute_result"
    }
   ],
   "source": [
    "df.describe()"
   ]
  },
  {
   "cell_type": "code",
   "execution_count": 7,
   "id": "d7fd81d8",
   "metadata": {},
   "outputs": [
    {
     "data": {
      "text/plain": [
       "Index(['Transaction date', 'House Age',\n",
       "       'Distance from nearest Metro station (km)',\n",
       "       'Number of convenience stores', 'latitude', 'longitude',\n",
       "       'Number of bedrooms', 'House size (sqft)', 'House price of unit area'],\n",
       "      dtype='object')"
      ]
     },
     "execution_count": 7,
     "metadata": {},
     "output_type": "execute_result"
    }
   ],
   "source": [
    "df.columns"
   ]
  },
  {
   "cell_type": "code",
   "execution_count": 8,
   "id": "b4ea1ad9",
   "metadata": {},
   "outputs": [],
   "source": [
    "#renaming columns for better understanding\n",
    "df = df.rename(columns = {\"House price of unit area\":\"House_price\"})\n",
    "df = df.rename(columns = {\"Transaction date\":\"Transaction_date\"})\n",
    "df = df.rename(columns = {\"House Age\":\"House_Age\"})\n",
    "df = df.rename(columns = {\"Distance from nearest Metro station (km)\":\"Distance_from_nearest_Metro_station(km)\"})\n",
    "df = df.rename(columns = {\"Number of convenience stores\":\"Number_of_convenience_stores\"})\n",
    "df = df.rename(columns = {\"Number of bedrooms\":\"Number_of_bedrooms\"})\n",
    "df = df.rename(columns = {\"House size (sqft)\":\"House_size(sqft)\"})"
   ]
  },
  {
   "cell_type": "code",
   "execution_count": 9,
   "id": "e875a3a0",
   "metadata": {},
   "outputs": [
    {
     "data": {
      "text/html": [
       "<div>\n",
       "<style scoped>\n",
       "    .dataframe tbody tr th:only-of-type {\n",
       "        vertical-align: middle;\n",
       "    }\n",
       "\n",
       "    .dataframe tbody tr th {\n",
       "        vertical-align: top;\n",
       "    }\n",
       "\n",
       "    .dataframe thead th {\n",
       "        text-align: right;\n",
       "    }\n",
       "</style>\n",
       "<table border=\"1\" class=\"dataframe\">\n",
       "  <thead>\n",
       "    <tr style=\"text-align: right;\">\n",
       "      <th></th>\n",
       "      <th>Transaction_date</th>\n",
       "      <th>House_Age</th>\n",
       "      <th>Distance_from_nearest_Metro_station(km)</th>\n",
       "      <th>Number_of_convenience_stores</th>\n",
       "      <th>latitude</th>\n",
       "      <th>longitude</th>\n",
       "      <th>Number_of_bedrooms</th>\n",
       "      <th>House_size(sqft)</th>\n",
       "      <th>House_price</th>\n",
       "    </tr>\n",
       "  </thead>\n",
       "  <tbody>\n",
       "    <tr>\n",
       "      <th>0</th>\n",
       "      <td>2012.916667</td>\n",
       "      <td>32.0</td>\n",
       "      <td>84.87882</td>\n",
       "      <td>10</td>\n",
       "      <td>24.98298</td>\n",
       "      <td>121.54024</td>\n",
       "      <td>1</td>\n",
       "      <td>575</td>\n",
       "      <td>37.9</td>\n",
       "    </tr>\n",
       "    <tr>\n",
       "      <th>1</th>\n",
       "      <td>2012.916667</td>\n",
       "      <td>19.5</td>\n",
       "      <td>306.59470</td>\n",
       "      <td>9</td>\n",
       "      <td>24.98034</td>\n",
       "      <td>121.53951</td>\n",
       "      <td>2</td>\n",
       "      <td>1240</td>\n",
       "      <td>42.2</td>\n",
       "    </tr>\n",
       "    <tr>\n",
       "      <th>2</th>\n",
       "      <td>2013.583333</td>\n",
       "      <td>13.3</td>\n",
       "      <td>561.98450</td>\n",
       "      <td>5</td>\n",
       "      <td>24.98746</td>\n",
       "      <td>121.54391</td>\n",
       "      <td>3</td>\n",
       "      <td>1060</td>\n",
       "      <td>47.3</td>\n",
       "    </tr>\n",
       "    <tr>\n",
       "      <th>3</th>\n",
       "      <td>2013.500000</td>\n",
       "      <td>13.3</td>\n",
       "      <td>561.98450</td>\n",
       "      <td>5</td>\n",
       "      <td>24.98746</td>\n",
       "      <td>121.54391</td>\n",
       "      <td>2</td>\n",
       "      <td>875</td>\n",
       "      <td>54.8</td>\n",
       "    </tr>\n",
       "    <tr>\n",
       "      <th>4</th>\n",
       "      <td>2012.833333</td>\n",
       "      <td>5.0</td>\n",
       "      <td>390.56840</td>\n",
       "      <td>5</td>\n",
       "      <td>24.97937</td>\n",
       "      <td>121.54245</td>\n",
       "      <td>1</td>\n",
       "      <td>491</td>\n",
       "      <td>43.1</td>\n",
       "    </tr>\n",
       "  </tbody>\n",
       "</table>\n",
       "</div>"
      ],
      "text/plain": [
       "   Transaction_date  House_Age  Distance_from_nearest_Metro_station(km)  \\\n",
       "0       2012.916667       32.0                                 84.87882   \n",
       "1       2012.916667       19.5                                306.59470   \n",
       "2       2013.583333       13.3                                561.98450   \n",
       "3       2013.500000       13.3                                561.98450   \n",
       "4       2012.833333        5.0                                390.56840   \n",
       "\n",
       "   Number_of_convenience_stores  latitude  longitude  Number_of_bedrooms  \\\n",
       "0                            10  24.98298  121.54024                   1   \n",
       "1                             9  24.98034  121.53951                   2   \n",
       "2                             5  24.98746  121.54391                   3   \n",
       "3                             5  24.98746  121.54391                   2   \n",
       "4                             5  24.97937  121.54245                   1   \n",
       "\n",
       "   House_size(sqft)  House_price  \n",
       "0               575         37.9  \n",
       "1              1240         42.2  \n",
       "2              1060         47.3  \n",
       "3               875         54.8  \n",
       "4               491         43.1  "
      ]
     },
     "execution_count": 9,
     "metadata": {},
     "output_type": "execute_result"
    }
   ],
   "source": [
    "df.head()"
   ]
  },
  {
   "cell_type": "code",
   "execution_count": 10,
   "id": "bccd8cdf",
   "metadata": {},
   "outputs": [
    {
     "name": "stderr",
     "output_type": "stream",
     "text": [
      "C:\\Users\\user\\anaconda3\\lib\\site-packages\\seaborn\\distributions.py:2619: FutureWarning: `distplot` is a deprecated function and will be removed in a future version. Please adapt your code to use either `displot` (a figure-level function with similar flexibility) or `histplot` (an axes-level function for histograms).\n",
      "  warnings.warn(msg, FutureWarning)\n",
      "C:\\Users\\user\\anaconda3\\lib\\site-packages\\seaborn\\_decorators.py:36: FutureWarning: Pass the following variable as a keyword arg: x. From version 0.12, the only valid positional argument will be `data`, and passing other arguments without an explicit keyword will result in an error or misinterpretation.\n",
      "  warnings.warn(\n"
     ]
    },
    {
     "data": {
      "image/png": "[encoded data removed]",
      "text/plain": [
       "<Figure size 720x504 with 2 Axes>"
      ]
     },
     "metadata": {
      "needs_background": "light"
     },
     "output_type": "display_data"
    }
   ],
   "source": [
    "#EDA\n",
    "fig = plt.figure(figsize=(10,7))\n",
    "fig.add_subplot(2,1,1)\n",
    "sns.distplot(df['House_price'])\n",
    "fig.add_subplot(2,1,2)\n",
    "sns.boxplot(df['House_price'])\n",
    "plt.tight_layout()"
   ]
  },
  {
   "cell_type": "code",
   "execution_count": 11,
   "id": "acf2a5f1",
   "metadata": {},
   "outputs": [
    {
     "data": {
      "image/png": "[encoded data removed]",
      "text/plain": [
       "<Figure size 864x648 with 2 Axes>"
      ]
     },
     "metadata": {
      "needs_background": "light"
     },
     "output_type": "display_data"
    }
   ],
   "source": [
    "fig, ax = plt.subplots(figsize=(12,9))\n",
    "sns.heatmap(df.corr(), ax=ax);"
   ]
  },
  {
   "cell_type": "code",
   "execution_count": 12,
   "id": "9580c7d6",
   "metadata": {},
   "outputs": [
    {
     "name": "stderr",
     "output_type": "stream",
     "text": [
      "C:\\Users\\user\\anaconda3\\lib\\site-packages\\seaborn\\_decorators.py:36: FutureWarning: Pass the following variable as a keyword arg: x. From version 0.12, the only valid positional argument will be `data`, and passing other arguments without an explicit keyword will result in an error or misinterpretation.\n",
      "  warnings.warn(\n",
      "C:\\Users\\user\\anaconda3\\lib\\site-packages\\seaborn\\_decorators.py:36: FutureWarning: Pass the following variable as a keyword arg: x. From version 0.12, the only valid positional argument will be `data`, and passing other arguments without an explicit keyword will result in an error or misinterpretation.\n",
      "  warnings.warn(\n",
      "C:\\Users\\user\\anaconda3\\lib\\site-packages\\seaborn\\_decorators.py:36: FutureWarning: Pass the following variable as a keyword arg: x. From version 0.12, the only valid positional argument will be `data`, and passing other arguments without an explicit keyword will result in an error or misinterpretation.\n",
      "  warnings.warn(\n"
     ]
    },
    {
     "data": {
      "image/png": "[encoded data removed]",
      "text/plain": [
       "<Figure size 1800x1080 with 3 Axes>"
      ]
     },
     "metadata": {
      "needs_background": "light"
     },
     "output_type": "display_data"
    }
   ],
   "source": [
    "fig = plt.figure(figsize=(25,15))\n",
    "fig.add_subplot(2,2,1)\n",
    "sns.countplot(df['Number_of_bedrooms'])\n",
    "\n",
    "fig.add_subplot(2,2,2)\n",
    "sns.countplot(df['Number_of_convenience_stores'])\n",
    "\n",
    "fig.add_subplot(2,2,3)\n",
    "sns.countplot(df['House_size(sqft)'])\n",
    "#fig.add_subplot(2,2,4)\n",
    "#sns.countplot(Data['grade'])\n",
    "plt.tight_layout()"
   ]
  },
  {
   "cell_type": "code",
   "execution_count": 13,
   "id": "f28dce28",
   "metadata": {},
   "outputs": [
    {
     "name": "stderr",
     "output_type": "stream",
     "text": [
      "C:\\Users\\user\\anaconda3\\lib\\site-packages\\seaborn\\_decorators.py:36: FutureWarning: Pass the following variables as keyword args: x, y. From version 0.12, the only valid positional argument will be `data`, and passing other arguments without an explicit keyword will result in an error or misinterpretation.\n",
      "  warnings.warn(\n",
      "C:\\Users\\user\\anaconda3\\lib\\site-packages\\seaborn\\_decorators.py:36: FutureWarning: Pass the following variables as keyword args: x, y. From version 0.12, the only valid positional argument will be `data`, and passing other arguments without an explicit keyword will result in an error or misinterpretation.\n",
      "  warnings.warn(\n",
      "C:\\Users\\user\\anaconda3\\lib\\site-packages\\seaborn\\_decorators.py:36: FutureWarning: Pass the following variables as keyword args: x, y. From version 0.12, the only valid positional argument will be `data`, and passing other arguments without an explicit keyword will result in an error or misinterpretation.\n",
      "  warnings.warn(\n",
      "C:\\Users\\user\\anaconda3\\lib\\site-packages\\seaborn\\_decorators.py:36: FutureWarning: Pass the following variables as keyword args: x, y. From version 0.12, the only valid positional argument will be `data`, and passing other arguments without an explicit keyword will result in an error or misinterpretation.\n",
      "  warnings.warn(\n"
     ]
    },
    {
     "data": {
      "text/plain": [
       "<AxesSubplot:xlabel='House_Age', ylabel='House_price'>"
      ]
     },
     "execution_count": 13,
     "metadata": {},
     "output_type": "execute_result"
    },
    {
     "data": {
      "image/png": "[encoded data removed]",
      "text/plain": [
       "<Figure size 1152x360 with 4 Axes>"
      ]
     },
     "metadata": {
      "needs_background": "light"
     },
     "output_type": "display_data"
    }
   ],
   "source": [
    "fig = plt.figure(figsize=(16,5))\n",
    "fig.add_subplot(2,2,1)\n",
    "sns.scatterplot(df['Number_of_bedrooms'], df['House_price'])\n",
    "\n",
    "fig.add_subplot(2,2,2)\n",
    "sns.scatterplot(df['Number_of_convenience_stores'], df['House_price'])\n",
    "\n",
    "fig.add_subplot(2,2,3)\n",
    "sns.scatterplot(df['House_size(sqft)'], df['House_price'])\n",
    "\n",
    "fig.add_subplot(2,2,4)\n",
    "sns.scatterplot(df['House_Age'], df['House_price'])"
   ]
  },
  {
   "cell_type": "code",
   "execution_count": 14,
   "id": "60e5c427",
   "metadata": {},
   "outputs": [
    {
     "data": {
      "text/plain": [
       "<AxesSubplot:xlabel='Number_of_bedrooms', ylabel='House_price'>"
      ]
     },
     "execution_count": 14,
     "metadata": {},
     "output_type": "execute_result"
    },
    {
     "data": {
      "image/png": "[encoded data removed]",
      "text/plain": [
       "<Figure size 432x288 with 1 Axes>"
      ]
     },
     "metadata": {
      "needs_background": "light"
     },
     "output_type": "display_data"
    }
   ],
   "source": [
    "sns.barplot(x= df.Number_of_bedrooms , y = df.House_price)"
   ]
  },
  {
   "cell_type": "code",
   "execution_count": 15,
   "id": "c0a321d8",
   "metadata": {},
   "outputs": [
    {
     "data": {
      "text/plain": [
       "<AxesSubplot:xlabel='Number_of_convenience_stores', ylabel='House_price'>"
      ]
     },
     "execution_count": 15,
     "metadata": {},
     "output_type": "execute_result"
    },
    {
     "data": {
      "image/png": "[encoded data removed]",
      "text/plain": [
       "<Figure size 432x288 with 1 Axes>"
      ]
     },
     "metadata": {
      "needs_background": "light"
     },
     "output_type": "display_data"
    }
   ],
   "source": [
    "sns.barplot(x= df.Number_of_convenience_stores , y = df.House_price)"
   ]
  },
  {
   "cell_type": "code",
   "execution_count": 16,
   "id": "ad5ace5a",
   "metadata": {},
   "outputs": [],
   "source": [
    "#splitting data in X and y as y is a target House_price column\n",
    "X = df.loc[:,[\"House_Age\",\"Number_of_convenience_stores\",'Number_of_bedrooms','House_size(sqft)']]"
   ]
  },
  {
   "cell_type": "code",
   "execution_count": 17,
   "id": "30cfa7d8",
   "metadata": {},
   "outputs": [
    {
     "data": {
      "text/html": [
       "<div>\n",
       "<style scoped>\n",
       "    .dataframe tbody tr th:only-of-type {\n",
       "        vertical-align: middle;\n",
       "    }\n",
       "\n",
       "    .dataframe tbody tr th {\n",
       "        vertical-align: top;\n",
       "    }\n",
       "\n",
       "    .dataframe thead th {\n",
       "        text-align: right;\n",
       "    }\n",
       "</style>\n",
       "<table border=\"1\" class=\"dataframe\">\n",
       "  <thead>\n",
       "    <tr style=\"text-align: right;\">\n",
       "      <th></th>\n",
       "      <th>House_Age</th>\n",
       "      <th>Number_of_convenience_stores</th>\n",
       "      <th>Number_of_bedrooms</th>\n",
       "      <th>House_size(sqft)</th>\n",
       "    </tr>\n",
       "  </thead>\n",
       "  <tbody>\n",
       "    <tr>\n",
       "      <th>0</th>\n",
       "      <td>32.0</td>\n",
       "      <td>10</td>\n",
       "      <td>1</td>\n",
       "      <td>575</td>\n",
       "    </tr>\n",
       "    <tr>\n",
       "      <th>1</th>\n",
       "      <td>19.5</td>\n",
       "      <td>9</td>\n",
       "      <td>2</td>\n",
       "      <td>1240</td>\n",
       "    </tr>\n",
       "    <tr>\n",
       "      <th>2</th>\n",
       "      <td>13.3</td>\n",
       "      <td>5</td>\n",
       "      <td>3</td>\n",
       "      <td>1060</td>\n",
       "    </tr>\n",
       "    <tr>\n",
       "      <th>3</th>\n",
       "      <td>13.3</td>\n",
       "      <td>5</td>\n",
       "      <td>2</td>\n",
       "      <td>875</td>\n",
       "    </tr>\n",
       "    <tr>\n",
       "      <th>4</th>\n",
       "      <td>5.0</td>\n",
       "      <td>5</td>\n",
       "      <td>1</td>\n",
       "      <td>491</td>\n",
       "    </tr>\n",
       "  </tbody>\n",
       "</table>\n",
       "</div>"
      ],
      "text/plain": [
       "   House_Age  Number_of_convenience_stores  Number_of_bedrooms  \\\n",
       "0       32.0                            10                   1   \n",
       "1       19.5                             9                   2   \n",
       "2       13.3                             5                   3   \n",
       "3       13.3                             5                   2   \n",
       "4        5.0                             5                   1   \n",
       "\n",
       "   House_size(sqft)  \n",
       "0               575  \n",
       "1              1240  \n",
       "2              1060  \n",
       "3               875  \n",
       "4               491  "
      ]
     },
     "execution_count": 17,
     "metadata": {},
     "output_type": "execute_result"
    }
   ],
   "source": [
    "X.head()"
   ]
  },
  {
   "cell_type": "code",
   "execution_count": 18,
   "id": "67a81024",
   "metadata": {},
   "outputs": [
    {
     "data": {
      "text/html": [
       "<div>\n",
       "<style scoped>\n",
       "    .dataframe tbody tr th:only-of-type {\n",
       "        vertical-align: middle;\n",
       "    }\n",
       "\n",
       "    .dataframe tbody tr th {\n",
       "        vertical-align: top;\n",
       "    }\n",
       "\n",
       "    .dataframe thead th {\n",
       "        text-align: right;\n",
       "    }\n",
       "</style>\n",
       "<table border=\"1\" class=\"dataframe\">\n",
       "  <thead>\n",
       "    <tr style=\"text-align: right;\">\n",
       "      <th></th>\n",
       "      <th>House_price</th>\n",
       "    </tr>\n",
       "  </thead>\n",
       "  <tbody>\n",
       "    <tr>\n",
       "      <th>0</th>\n",
       "      <td>37.9</td>\n",
       "    </tr>\n",
       "    <tr>\n",
       "      <th>1</th>\n",
       "      <td>42.2</td>\n",
       "    </tr>\n",
       "    <tr>\n",
       "      <th>2</th>\n",
       "      <td>47.3</td>\n",
       "    </tr>\n",
       "    <tr>\n",
       "      <th>3</th>\n",
       "      <td>54.8</td>\n",
       "    </tr>\n",
       "    <tr>\n",
       "      <th>4</th>\n",
       "      <td>43.1</td>\n",
       "    </tr>\n",
       "  </tbody>\n",
       "</table>\n",
       "</div>"
      ],
      "text/plain": [
       "   House_price\n",
       "0         37.9\n",
       "1         42.2\n",
       "2         47.3\n",
       "3         54.8\n",
       "4         43.1"
      ]
     },
     "execution_count": 18,
     "metadata": {},
     "output_type": "execute_result"
    }
   ],
   "source": [
    "y=df.loc[:,['House_price']]\n",
    "y.head()"
   ]
  },
  {
   "cell_type": "code",
   "execution_count": 19,
   "id": "a7f66dbf",
   "metadata": {},
   "outputs": [
    {
     "name": "stdout",
     "output_type": "stream",
     "text": [
      "(289, 4)\n",
      "(289, 1)\n",
      "(125, 4)\n",
      "(125, 1)\n"
     ]
    }
   ],
   "source": [
    "#splitting into train test split 70 for traing and 30 for testing\n",
    "from sklearn.model_selection import train_test_split\n",
    "X_train, X_test, y_train, y_test = train_test_split(X, y, test_size = 0.3)\n",
    "print(X_train.shape)\n",
    "print(y_train.shape)\n",
    "print(X_test.shape)\n",
    "print(y_test.shape)"
   ]
  },
  {
   "cell_type": "code",
   "execution_count": 20,
   "id": "2a423499",
   "metadata": {},
   "outputs": [
    {
     "data": {
      "text/html": [
       "<div>\n",
       "<style scoped>\n",
       "    .dataframe tbody tr th:only-of-type {\n",
       "        vertical-align: middle;\n",
       "    }\n",
       "\n",
       "    .dataframe tbody tr th {\n",
       "        vertical-align: top;\n",
       "    }\n",
       "\n",
       "    .dataframe thead th {\n",
       "        text-align: right;\n",
       "    }\n",
       "</style>\n",
       "<table border=\"1\" class=\"dataframe\">\n",
       "  <thead>\n",
       "    <tr style=\"text-align: right;\">\n",
       "      <th></th>\n",
       "      <th>House_Age</th>\n",
       "      <th>Number_of_convenience_stores</th>\n",
       "      <th>Number_of_bedrooms</th>\n",
       "      <th>House_size(sqft)</th>\n",
       "    </tr>\n",
       "  </thead>\n",
       "  <tbody>\n",
       "    <tr>\n",
       "      <th>237</th>\n",
       "      <td>13.0</td>\n",
       "      <td>0</td>\n",
       "      <td>1</td>\n",
       "      <td>578</td>\n",
       "    </tr>\n",
       "    <tr>\n",
       "      <th>299</th>\n",
       "      <td>33.2</td>\n",
       "      <td>10</td>\n",
       "      <td>3</td>\n",
       "      <td>1297</td>\n",
       "    </tr>\n",
       "    <tr>\n",
       "      <th>304</th>\n",
       "      <td>20.0</td>\n",
       "      <td>3</td>\n",
       "      <td>3</td>\n",
       "      <td>970</td>\n",
       "    </tr>\n",
       "    <tr>\n",
       "      <th>390</th>\n",
       "      <td>32.8</td>\n",
       "      <td>9</td>\n",
       "      <td>2</td>\n",
       "      <td>1438</td>\n",
       "    </tr>\n",
       "    <tr>\n",
       "      <th>136</th>\n",
       "      <td>11.4</td>\n",
       "      <td>5</td>\n",
       "      <td>1</td>\n",
       "      <td>453</td>\n",
       "    </tr>\n",
       "  </tbody>\n",
       "</table>\n",
       "</div>"
      ],
      "text/plain": [
       "     House_Age  Number_of_convenience_stores  Number_of_bedrooms  \\\n",
       "237       13.0                             0                   1   \n",
       "299       33.2                            10                   3   \n",
       "304       20.0                             3                   3   \n",
       "390       32.8                             9                   2   \n",
       "136       11.4                             5                   1   \n",
       "\n",
       "     House_size(sqft)  \n",
       "237               578  \n",
       "299              1297  \n",
       "304               970  \n",
       "390              1438  \n",
       "136               453  "
      ]
     },
     "execution_count": 20,
     "metadata": {},
     "output_type": "execute_result"
    }
   ],
   "source": [
    "X_train.head()"
   ]
  },
  {
   "cell_type": "code",
   "execution_count": 21,
   "id": "c0a18986",
   "metadata": {},
   "outputs": [
    {
     "data": {
      "text/html": [
       "<div>\n",
       "<style scoped>\n",
       "    .dataframe tbody tr th:only-of-type {\n",
       "        vertical-align: middle;\n",
       "    }\n",
       "\n",
       "    .dataframe tbody tr th {\n",
       "        vertical-align: top;\n",
       "    }\n",
       "\n",
       "    .dataframe thead th {\n",
       "        text-align: right;\n",
       "    }\n",
       "</style>\n",
       "<table border=\"1\" class=\"dataframe\">\n",
       "  <thead>\n",
       "    <tr style=\"text-align: right;\">\n",
       "      <th></th>\n",
       "      <th>House_price</th>\n",
       "    </tr>\n",
       "  </thead>\n",
       "  <tbody>\n",
       "    <tr>\n",
       "      <th>237</th>\n",
       "      <td>39.0</td>\n",
       "    </tr>\n",
       "    <tr>\n",
       "      <th>299</th>\n",
       "      <td>46.1</td>\n",
       "    </tr>\n",
       "    <tr>\n",
       "      <th>304</th>\n",
       "      <td>29.4</td>\n",
       "    </tr>\n",
       "    <tr>\n",
       "      <th>390</th>\n",
       "      <td>38.6</td>\n",
       "    </tr>\n",
       "    <tr>\n",
       "      <th>136</th>\n",
       "      <td>46.8</td>\n",
       "    </tr>\n",
       "  </tbody>\n",
       "</table>\n",
       "</div>"
      ],
      "text/plain": [
       "     House_price\n",
       "237         39.0\n",
       "299         46.1\n",
       "304         29.4\n",
       "390         38.6\n",
       "136         46.8"
      ]
     },
     "execution_count": 21,
     "metadata": {},
     "output_type": "execute_result"
    }
   ],
   "source": [
    "y_train.head()"
   ]
  },
  {
   "cell_type": "code",
   "execution_count": 22,
   "id": "52d83088",
   "metadata": {},
   "outputs": [
    {
     "name": "stdout",
     "output_type": "stream",
     "text": [
      "[[35.56061667]\n",
      " [35.98062982]\n",
      " [40.64975105]\n",
      " [43.93261673]\n",
      " [31.73889952]\n",
      " [37.69291973]\n",
      " [44.1177197 ]\n",
      " [45.89836816]\n",
      " [42.01827628]\n",
      " [23.83896486]\n",
      " [28.0993838 ]\n",
      " [24.79138735]\n",
      " [34.8615644 ]\n",
      " [44.46261776]\n",
      " [27.8536165 ]\n",
      " [40.54436298]\n",
      " [42.92770826]\n",
      " [24.56756289]\n",
      " [25.76817941]\n",
      " [39.42183915]\n",
      " [28.98319505]\n",
      " [39.54925793]\n",
      " [32.25628281]\n",
      " [51.46362791]\n",
      " [29.75789313]\n",
      " [49.1929981 ]\n",
      " [46.5651773 ]\n",
      " [34.39554157]\n",
      " [37.96945387]\n",
      " [26.81101241]\n",
      " [30.30090597]\n",
      " [30.34089921]\n",
      " [53.76332015]\n",
      " [47.0991037 ]\n",
      " [41.71759691]\n",
      " [41.16566483]\n",
      " [24.08735946]\n",
      " [35.14111676]\n",
      " [53.14526086]\n",
      " [46.41989944]\n",
      " [33.88959193]\n",
      " [41.70425576]\n",
      " [32.57437371]\n",
      " [38.19410549]\n",
      " [36.94464671]\n",
      " [40.74726903]\n",
      " [30.4134906 ]\n",
      " [41.23533026]\n",
      " [40.0653441 ]\n",
      " [38.03929958]\n",
      " [30.62271566]\n",
      " [41.42353238]\n",
      " [39.19842012]\n",
      " [27.87719244]\n",
      " [24.05982132]\n",
      " [55.97976728]\n",
      " [34.66869305]\n",
      " [39.71135158]\n",
      " [34.95106414]\n",
      " [31.2838042 ]\n",
      " [39.01970857]\n",
      " [45.93812825]\n",
      " [33.4027916 ]\n",
      " [41.27892078]\n",
      " [30.79341195]\n",
      " [29.62770585]\n",
      " [32.14554413]\n",
      " [44.95749158]\n",
      " [38.05895708]\n",
      " [46.83343093]\n",
      " [41.82562314]\n",
      " [33.58986537]\n",
      " [49.07380335]\n",
      " [41.13579993]\n",
      " [38.78604484]\n",
      " [39.73494593]\n",
      " [38.45288476]\n",
      " [38.9082238 ]\n",
      " [49.14397746]\n",
      " [32.11257238]\n",
      " [28.05248981]\n",
      " [33.276888  ]\n",
      " [33.59625586]\n",
      " [53.10481624]\n",
      " [32.78937039]\n",
      " [53.76219102]\n",
      " [31.49570095]\n",
      " [29.10535087]\n",
      " [28.95992721]\n",
      " [37.8099595 ]\n",
      " [37.60764038]\n",
      " [38.35421671]\n",
      " [31.40291456]\n",
      " [44.4716568 ]\n",
      " [38.27829648]\n",
      " [47.29437801]\n",
      " [32.10547546]\n",
      " [26.10010692]\n",
      " [42.2316372 ]\n",
      " [29.61901645]\n",
      " [49.23021071]\n",
      " [28.84939901]\n",
      " [42.68898151]\n",
      " [28.46861964]\n",
      " [39.14044228]\n",
      " [51.63311241]\n",
      " [56.83401103]\n",
      " [53.49184223]\n",
      " [41.47234443]\n",
      " [37.39612888]\n",
      " [25.70131066]\n",
      " [34.35979249]\n",
      " [54.86691083]\n",
      " [28.34346071]\n",
      " [47.39588558]\n",
      " [32.02677192]\n",
      " [40.33687382]\n",
      " [26.33815432]\n",
      " [23.72668738]\n",
      " [44.41910643]\n",
      " [47.76982057]\n",
      " [39.71138055]\n",
      " [39.91936596]\n",
      " [28.91997522]\n",
      " [33.31139004]]\n",
      "RMSE : 9.8491369111902\n",
      "Variance score: 0.49\n",
      "Result : 0.3312890682617048\n"
     ]
    }
   ],
   "source": [
    "#importing ML model linear regression\n",
    "from sklearn.linear_model import LinearRegression\n",
    "from sklearn.metrics import mean_squared_error\n",
    "from sklearn.metrics import r2_score\n",
    "\n",
    "model = LinearRegression()\n",
    "model.fit(X_train, y_train)\n",
    "\n",
    "# predicting the  test set results\n",
    "y_pred = model.predict(X_test)\n",
    "print(y_pred)\n",
    "\n",
    "# finding the mean squared error and variance\n",
    "mse = mean_squared_error(y_test, y_pred)\n",
    "print('RMSE :', np.sqrt(mse))\n",
    "print('Variance score: %.2f' % r2_score(y_test, y_pred))\n",
    "print(\"Result :\",model.score(X_train, y_train))"
   ]
  },
  {
   "cell_type": "markdown",
   "id": "13286247",
   "metadata": {},
   "source": [
    "Linear Regression has predicted the prices but overall accuracy of model is less 33%"
   ]
  },
  {
   "cell_type": "code",
   "execution_count": null,
   "id": "8db0d513",
   "metadata": {},
   "outputs": [],
   "source": []
  },
  {
   "cell_type": "markdown",
   "id": "1c244a7d",
   "metadata": {},
   "source": [
    "To increase accuracy I have used boosting technique"
   ]
  },
  {
   "cell_type": "code",
   "execution_count": 23,
   "id": "bc053031",
   "metadata": {},
   "outputs": [
    {
     "name": "stdout",
     "output_type": "stream",
     "text": [
      "RMSE : 9.072744999995479\n",
      "Result : 0.6493365611630465\n"
     ]
    },
    {
     "name": "stderr",
     "output_type": "stream",
     "text": [
      "C:\\Users\\user\\anaconda3\\lib\\site-packages\\sklearn\\utils\\validation.py:993: DataConversionWarning: A column-vector y was passed when a 1d array was expected. Please change the shape of y to (n_samples, ), for example using ravel().\n",
      "  y = column_or_1d(y, warn=True)\n"
     ]
    }
   ],
   "source": [
    "#importing Ada Boosting\n",
    "from sklearn.ensemble import AdaBoostRegressor\n",
    "\n",
    "model= AdaBoostRegressor(n_estimators = 100)\n",
    "model.fit(X_train, y_train)\n",
    "\n",
    "# predicting the test set results\n",
    "y_pred = model.predict(X_test)\n",
    "\n",
    "# RMSE\n",
    "mse = mean_squared_error(y_test, y_pred)\n",
    "print(\"RMSE :\", np.sqrt(mse))\n",
    "print(\"Result :\",model.score(X_train, y_train))"
   ]
  },
  {
   "cell_type": "code",
   "execution_count": 24,
   "id": "c9a51471",
   "metadata": {},
   "outputs": [
    {
     "name": "stderr",
     "output_type": "stream",
     "text": [
      "C:\\Users\\user\\anaconda3\\lib\\site-packages\\sklearn\\ensemble\\_gb.py:494: DataConversionWarning: A column-vector y was passed when a 1d array was expected. Please change the shape of y to (n_samples, ), for example using ravel().\n",
      "  y = column_or_1d(y, warn=True)\n"
     ]
    },
    {
     "name": "stdout",
     "output_type": "stream",
     "text": [
      "[27.99190677 39.98860325 41.84180854 49.57348602 30.01616162 37.76975758\n",
      " 46.35197292 43.93277821 48.68227791 18.69565694 25.80213832 39.57923161\n",
      " 43.97646243 53.73505102 22.57936269 39.77156091 46.21680172 20.86595703\n",
      " 20.4658373  38.30500177 32.5454092  35.96737749 35.96827071 47.73497163\n",
      " 41.26777469 46.42089166 43.24661826 33.74416356 35.39409001 21.17634365\n",
      " 38.54250309 27.39079553 65.64499959 50.02004483 44.04000564 43.75642463\n",
      " 21.05935928 27.11306467 51.29912787 49.57348602 29.516808   43.08117212\n",
      " 36.04037552 38.04227942 35.65035667 45.67793997 34.94299781 33.95273458\n",
      " 34.60474936 38.13629873 40.259455   40.24736095 33.35877834 21.57209725\n",
      " 18.96791288 52.73749364 29.86338431 37.99949322 27.73103868 29.72795113\n",
      " 32.6707509  53.08869653 29.20703582 43.08117212 21.21738988 36.10315715\n",
      " 30.18210449 42.43489624 34.3477908  53.63170766 43.42858548 27.99190677\n",
      " 40.05194057 59.50674931 34.12182753 39.89259373 31.93268387 32.98016509\n",
      " 47.36768872 30.57000554 22.57936269 27.69063137 48.96316529 52.32739428\n",
      " 25.92490605 52.99836173 23.73065512 36.35502575 22.73061743 38.81155124\n",
      " 32.0063796  36.56679176 15.74670765 42.15209351 41.11688386 59.37965022\n",
      " 50.07844277 20.74585235 48.46552022 42.43936406 50.00003663 21.13732994\n",
      " 48.46552022 21.57209725 34.73985027 47.68802315 49.27426433 53.41274615\n",
      " 43.4619795  36.20852402 27.91075992 28.72570764 46.20143552 22.70094795\n",
      " 50.86923666 37.74487948 36.90488878 23.84403799 21.05935928 39.10921444\n",
      " 65.67066113 29.92280327 40.58554652 21.68288514 44.92509434]\n",
      "Result : 0.845806373249441\n"
     ]
    }
   ],
   "source": [
    "#importing Gradient Boosting\n",
    "from sklearn.ensemble import GradientBoostingRegressor\n",
    "\n",
    "model = GradientBoostingRegressor()\n",
    "model.fit(X_train, y_train)\n",
    "\n",
    "# predicting the test set results\n",
    "y_pred = model.predict(X_test)\n",
    "print(y_pred)\n",
    "\n",
    "print(\"Result :\",model.score(X_train, y_train))"
   ]
  },
  {
   "cell_type": "markdown",
   "id": "7ba9d67e",
   "metadata": {},
   "source": [
    "AS we can see accuracy of model is increased 84%"
   ]
  },
  {
   "cell_type": "code",
   "execution_count": null,
   "id": "79bdcc78",
   "metadata": {},
   "outputs": [],
   "source": []
  },
  {
   "cell_type": "code",
   "execution_count": 25,
   "id": "976bd91b",
   "metadata": {},
   "outputs": [
    {
     "name": "stderr",
     "output_type": "stream",
     "text": [
      "C:\\Users\\user\\AppData\\Local\\Temp\\ipykernel_17900\\319716779.py:6: DataConversionWarning: A column-vector y was passed when a 1d array was expected. Please change the shape of y to (n_samples,), for example using ravel().\n",
      "  model.fit(X_train, y_train)\n"
     ]
    },
    {
     "name": "stdout",
     "output_type": "stream",
     "text": [
      "[26.282 37.872 42.857 51.944 33.491 34.445 47.428 42.254 49.144 19.12\n",
      " 25.845 36.331 43.069 49.125 24.649 41.598 46.128 18.288 25.187 37.393\n",
      " 21.143 31.654 37.146 47.897 48.406 47.338 39.985 38.965 32.832 24.283\n",
      " 40.282 27.188 52.517 47.992 46.033 45.934 23.376 27.603 53.715 51.984\n",
      " 32.984 43.272 39.563 43.051 42.565 47.861 37.199 40.388 37.287 36.457\n",
      " 40.755 43.075 31.855 20.376 19.753 53.098 29.731 32.011 27.264 33.472\n",
      " 31.236 51.898 27.99  43.523 30.459 33.85  29.696 44.821 32.349 50.794\n",
      " 43.193 25.726 39.524 55.525 29.685 39.883 28.459 30.829 42.093 36.912\n",
      " 26.107 27.95  46.855 52.394 26.967 52.698 31.072 34.039 18.99  37.34\n",
      " 31.803 35.912 23.415 42.076 40.613 60.637 51.688 22.908 48.992 43.88\n",
      " 48.33  17.704 47.91  24.611 32.396 48.024 52.693 54.457 43.267 41.288\n",
      " 35.999 29.492 51.732 18.962 57.36  34.751 40.091 18.327 20.349 47.122\n",
      " 64.503 33.041 42.122 17.041 43.81 ]\n",
      "RMSE : 8.331162244489061\n",
      "Variance score: 0.64\n",
      "Result : 0.9048892975847278\n"
     ]
    }
   ],
   "source": [
    "#importing Random Forest\n",
    "from sklearn.ensemble import RandomForestRegressor\n",
    "from sklearn.metrics import mean_squared_error\n",
    "from sklearn.metrics import r2_score\n",
    "model = RandomForestRegressor(n_estimators = 100 , n_jobs = -1)\n",
    "model.fit(X_train, y_train)\n",
    "\n",
    "# predicting the  test set results\n",
    "y_pred = model.predict(X_test)\n",
    "print(y_pred)\n",
    "\n",
    "# finding the mean squared error and variance\n",
    "mse = mean_squared_error(y_test, y_pred)\n",
    "print(\"RMSE :\",np.sqrt(mse))\n",
    "print('Variance score: %.2f' % r2_score(y_test, y_pred))\n",
    "\n",
    "print(\"Result :\",model.score(X_train, y_train))"
   ]
  },
  {
   "cell_type": "markdown",
   "id": "c3399ea7",
   "metadata": {},
   "source": [
    "Random Forest has predicted the prices but overall accuracy of model is higher than Linear Regression 90%\n"
   ]
  },
  {
   "cell_type": "code",
   "execution_count": null,
   "id": "b9f3ce77",
   "metadata": {},
   "outputs": [],
   "source": []
  }
 ],
 "metadata": {
  "kernelspec": {
   "display_name": "Python 3 (ipykernel)",
   "language": "python",
   "name": "python3"
  },
  "language_info": {
   "codemirror_mode": {
    "name": "ipython",
    "version": 3
   },
   "file_extension": ".py",
   "mimetype": "text/x-python",
   "name": "python",
   "nbconvert_exporter": "python",
   "pygments_lexer": "ipython3",
   "version": "3.9.12"
  }
 },
 "nbformat": 4,
 "nbformat_minor": 5
}
